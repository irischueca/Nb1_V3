{
 "cells": [
  {
   "cell_type": "markdown",
   "metadata": {},
   "source": [
    "## Hello, world!\n",
    "\n",
    "Es típico que el primer programa de un lenguaje salude al mundo, en el siguiente enlace puedes encontrar la sintaxis del programa *Hello, world!* en diferentes lenguajes de programación: [Hello, world!](https://www.scriptol.com/programming/hello-world.php)\n",
    "\n",
    "### ¿Qué es C#?\n",
    "\n",
    "Es un potente lenguaje de programación que puedes usar para hacer sitios web, juegos, aplicaciones móviles, aplicaciones de escritorio y más. Es uno de los lenguajes más usados. C# es parte de la plataforma de programación .NET, que incluye librerías para todas esos tipos de software. \n",
    "\n",
    "**Primer programa en C#: Hello, world!**"
   ]
  },
  {
   "cell_type": "code",
   "execution_count": 2,
   "metadata": {
    "dotnet_interactive": {
     "language": "csharp"
    },
    "vscode": {
     "languageId": "polyglot-notebook"
    }
   },
   "outputs": [
    {
     "name": "stdout",
     "output_type": "stream",
     "text": [
      "Hello, world!\r\n"
     ]
    }
   ],
   "source": [
    "// Mostrar por consola un mensaje\n",
    "Console.WriteLine(\"Hello, world!\");"
   ]
  },
  {
   "cell_type": "markdown",
   "metadata": {},
   "source": [
    "Observamos el código del programa de ejemplo:\n",
    "- Para escribir texto debemos ponerlo entre comillas: \"Hello, world\"\n",
    "- Debemos escribir un punto y coma para terminar una sentencia\n",
    "- Podemos escribir comentarios escribiendo dos barras: //, esto será ignorado en la ejecución del programa y sirve para dejar comentarios en el código a cerca de éste\n",
    "- Console es un objeto que representa la salida del programa, llamando al método *WriteLine* podemos escribir en la salida del programa  \n",
    "\n",
    "Tip: *En los bloques de código de un notebook la última línea será mostrada por consola sin necesidad de llamar al método WriteLine de Console*\n",
    "\n",
    "Prueba a cambiar el texto y ver el resultado"
   ]
  },
  {
   "cell_type": "code",
   "execution_count": 3,
   "metadata": {
    "dotnet_interactive": {
     "language": "csharp"
    },
    "vscode": {
     "languageId": "polyglot-notebook"
    }
   },
   "outputs": [
    {
     "data": {
      "text/plain": [
       "Hello, class!"
      ]
     },
     "metadata": {},
     "output_type": "display_data"
    }
   ],
   "source": [
    "\"Hello, class!\""
   ]
  },
  {
   "cell_type": "markdown",
   "metadata": {},
   "source": [
    "### Variables\n",
    "Una **variable** es un dato almacenado en la memoria que puede ver modificado su valor durante la ejecución del programa.  \n",
    "La sintaxis para declarar una variable en C# es la siguiente: \n",
    "```\n",
    "<tipo> identificadorVariable = valorInicial;\n",
    "```\n",
    "Primero, debemos indicar pues, el **tipo de dato**, iremos viendo los distintos tipos disponibles en el lenguaje de programación C#.  \n",
    "A continuación debemos indicar el **identificador de la variable**, es el nombre que le daremos a la variable y que nos permitirá acceder al valor guardado en la memoria a lo largo del programa (en la región del programa donde la variable sea utilizable).  \n",
    "Después utilizamos el ***operador de asignación*** que se representa con el signo igual: **=**  \n",
    "Después indicamos el valor inicial de la variable (que se guardará en la memoria para poder ser utilizado posteriormente)  \n",
    "Y por último  escribimos **;** para indicar el final de la sentencia.\n",
    "\n",
    "Los identificadores de variables pueden construirse con letras, números y el guión bajo o underscore _, aunque no pueden empezar por un número.\n",
    "Aunque tenemos libertad total para elegir los identificadores de las variables, se suele usar la convención **lowerCamelCase** (notación de camello minúscula); pondremos nombres significativos con la primera letra en minúscula y poniendo una mayúscula cuando empieze otra palabra, por ejemplo: *primerApellido*.\n",
    "\n",
    "El tipo **string** permite representar texto, también conocemos a este tipo de dato como *cadena de caracteres*\n",
    "\n",
    "Llamamos **literal** de tipo *string* a un texto entre comillas incluido en el programa.\n",
    "\n",
    "Veamos un ejemplo de declaración y asignación de una variable de tipo string:   \n",
    "El valor inicial deberá estar entre comillas, que es la forma de indicar que estamos escribiendo texto."
   ]
  },
  {
   "cell_type": "code",
   "execution_count": 4,
   "metadata": {
    "dotnet_interactive": {
     "language": "csharp"
    },
    "vscode": {
     "languageId": "polyglot-notebook"
    }
   },
   "outputs": [
    {
     "name": "stdout",
     "output_type": "stream",
     "text": [
      "Iris Chueca\r\n"
     ]
    }
   ],
   "source": [
    "// Declarar variable name con el valor Ramón J. Sender\n",
    "string name = \"Iris Chueca\";\n",
    "// mostrar name\n",
    "Console.WriteLine(name);"
   ]
  },
  {
   "cell_type": "markdown",
   "metadata": {},
   "source": [
    "A partir de aquí en el *notebook* podemos utilizar la variable *name*"
   ]
  },
  {
   "cell_type": "code",
   "execution_count": 6,
   "metadata": {
    "dotnet_interactive": {
     "language": "csharp"
    },
    "vscode": {
     "languageId": "polyglot-notebook"
    }
   },
   "outputs": [
    {
     "data": {
      "text/plain": [
       "Iris Chueca"
      ]
     },
     "metadata": {},
     "output_type": "display_data"
    }
   ],
   "source": [
    "// mostrar name\n",
    "name"
   ]
  },
  {
   "cell_type": "markdown",
   "metadata": {},
   "source": [
    "### C# - Tratamiento de Cadenas de Caracteres\n",
    "\n",
    "A continuación, puedes ver algunos ejemplos de uso del tipo string en el tratamiento de cadenas de caracteres.  \n",
    "\n",
    "Para conocer la **longitud** de la cadena puedes usar la propiedad *Length*"
   ]
  },
  {
   "cell_type": "code",
   "execution_count": 7,
   "metadata": {
    "dotnet_interactive": {
     "language": "csharp"
    },
    "vscode": {
     "languageId": "polyglot-notebook"
    }
   },
   "outputs": [
    {
     "name": "stdout",
     "output_type": "stream",
     "text": [
      "11\r\n"
     ]
    }
   ],
   "source": [
    "// Mostrar la longitud de name\n",
    "Console.WriteLine(name.Length);"
   ]
  },
  {
   "cell_type": "markdown",
   "metadata": {},
   "source": [
    "El tipo *string* nos ofrece una serie de métodos de **busqueda** en la cadena de caracteres.  \n",
    "*Observa que distingue entre mayúsculas y minúsculas.*"
   ]
  },
  {
   "cell_type": "code",
   "execution_count": 8,
   "metadata": {
    "dotnet_interactive": {
     "language": "csharp"
    },
    "vscode": {
     "languageId": "polyglot-notebook"
    }
   },
   "outputs": [
    {
     "name": "stdout",
     "output_type": "stream",
     "text": [
      "False\n",
      "True\n",
      "False\n",
      "False\n",
      "True\n",
      "False\n",
      "False\n"
     ]
    }
   ],
   "source": [
    "// mostrar ejemplos de StartsWith, EndsWith, Contains\n",
    "// hacer búsquedas para demostrar la búsqueda con mayúsculas y minúsculas\n",
    "Console.WriteLine(name.StartsWith(\"Antes\"));\n",
    "Console.WriteLine(name.StartsWith(\"Iri\"));\n",
    "Console.WriteLine(name.StartsWith(\"IRI\"));\n",
    "Console.WriteLine(name.EndsWith(\"J\"));\n",
    "Console.WriteLine(name.EndsWith(\"Chueca\"));\n",
    "Console.WriteLine(name.Contains(\"CHUECA\"));\n",
    "Console.WriteLine(name.Contains(\"ChUeCa\"));"
   ]
  },
  {
   "cell_type": "markdown",
   "metadata": {},
   "source": [
    "Podemos concatenar cadenas haciendo uso del operador **+** que para el tipo string realiza la **concatenación** de dos cadenas."
   ]
  },
  {
   "cell_type": "code",
   "execution_count": 9,
   "metadata": {
    "dotnet_interactive": {
     "language": "csharp"
    },
    "vscode": {
     "languageId": "polyglot-notebook"
    }
   },
   "outputs": [
    {
     "name": "stdout",
     "output_type": "stream",
     "text": [
      "Hola Iris Chueca!\r\n"
     ]
    }
   ],
   "source": [
    "// Contatenación de cadenas: Hola + name + !\n",
    "Console.WriteLine(\"Hola \" + name + \"!\");"
   ]
  },
  {
   "cell_type": "markdown",
   "metadata": {},
   "source": [
    "**Interpolación de cadenas**  \n",
    "Además de disponer del operador **+**, C# ofrece otro mecanismo para construir cadenas intercalando valores de variables en medio de un texto, para ello iniciaremos la cadena con el signo **$** y escribiremos la variable entre llaves para indicar a C# que debe sustituir ese bloque por el valor de la variable. "
   ]
  },
  {
   "cell_type": "code",
   "execution_count": 10,
   "metadata": {
    "dotnet_interactive": {
     "language": "csharp"
    },
    "vscode": {
     "languageId": "polyglot-notebook"
    }
   },
   "outputs": [
    {
     "name": "stdout",
     "output_type": "stream",
     "text": [
      "Hola, Iris Chueca!\r\n"
     ]
    }
   ],
   "source": [
    "// Interpolación de cadenas: Hola, name!\n",
    "Console.WriteLine($\"Hola, {name}!\")"
   ]
  },
  {
   "cell_type": "markdown",
   "metadata": {},
   "source": [
    "**Ejercicio 1**  \n",
    ">  \n",
    "> Haz un programa que escriba la siguiente frase en dos líneas de la forma siguiente: \n",
    "> \n",
    "> *I love programming*    \n",
    "> *more and more*\n"
   ]
  },
  {
   "cell_type": "code",
   "execution_count": 11,
   "metadata": {
    "dotnet_interactive": {
     "language": "csharp"
    },
    "vscode": {
     "languageId": "polyglot-notebook"
    }
   },
   "outputs": [
    {
     "name": "stdout",
     "output_type": "stream",
     "text": [
      "I love programming\n",
      "more and more\n"
     ]
    }
   ],
   "source": [
    "// Escribe aquí el código del programa\n",
    "Console.WriteLine(\"I love programming\");\n",
    "Console.WriteLine(\"more and more\");\n"
   ]
  },
  {
   "cell_type": "markdown",
   "metadata": {},
   "source": [
    "**Ejercicio 2**  \n",
    ">  \n",
    "> Haz un programa que escriba tu nombre  \n",
    "> Crea una variable llamada *hobby*, el programa debe escribir una frase indicando tu nombre y tu afición.  \n",
    ">\n",
    "> Ejemplo de salida del programa:   \n",
    ">\n",
    "> *Mary* \n",
    "> \n",
    "> *Hi, my name is Mary and I'm into ski*\n"
   ]
  },
  {
   "cell_type": "code",
   "execution_count": null,
   "metadata": {
    "dotnet_interactive": {
     "language": "csharp"
    },
    "vscode": {
     "languageId": "polyglot-notebook"
    }
   },
   "outputs": [],
   "source": [
    "// Escribe aquí el código del programa\n",
    "string \n"
   ]
  },
  {
   "cell_type": "markdown",
   "metadata": {},
   "source": [
    "Puedes **eliminar los espacios sobrantes** por delante y por detrás del texto con los métodos *Trim*, *TrimStart*, *TrimEnd*"
   ]
  },
  {
   "cell_type": "code",
   "execution_count": null,
   "metadata": {
    "dotnet_interactive": {
     "language": "csharp"
    },
    "vscode": {
     "languageId": "polyglot-notebook"
    }
   },
   "outputs": [],
   "source": [
    "// crear varible con espacios sobrantes\n",
    "// mostrar resultado de eliminar espacios sobrantes a izquierda y derecha\n",
    "// poner resultado entre [] para ver claramente los espacios\n",
    "// asignar el resultado de trim a la propia variable y mostrar"
   ]
  },
  {
   "cell_type": "markdown",
   "metadata": {},
   "source": [
    "El método **Replace** permite reemplazar un trozo de cadena por otro valor."
   ]
  },
  {
   "cell_type": "code",
   "execution_count": null,
   "metadata": {
    "dotnet_interactive": {
     "language": "csharp"
    },
    "vscode": {
     "languageId": "polyglot-notebook"
    }
   },
   "outputs": [],
   "source": [
    "// Ejemplo replace"
   ]
  },
  {
   "cell_type": "markdown",
   "metadata": {},
   "source": [
    "**Mayúsculas y Minúsculas**  \n",
    "Puedes convertir un texto a mayúsculas y minúsculas con los métodos *ToUpper* y *ToLower* respectivamente"
   ]
  },
  {
   "cell_type": "code",
   "execution_count": null,
   "metadata": {
    "dotnet_interactive": {
     "language": "csharp"
    },
    "vscode": {
     "languageId": "polyglot-notebook"
    }
   },
   "outputs": [],
   "source": [
    "// mostrar cADenA en mayúsculas\n",
    "// mostrar cADenA en minúsculas"
   ]
  },
  {
   "cell_type": "markdown",
   "metadata": {},
   "source": [
    "**Ejercicio 3**  \n",
    ">  \n",
    "> Haz un programa que\n",
    "> - escriba tu nombre en minúsculas y tu apellido en mayúsculas  \n",
    "> - muestre cuantas letras tiene *esternocleidomastoideo*\n",
    "> - escriba tu nombre tras reemplazar las vocales por guiones, por ejemplo: *L--n-rd- d- Ch-b-c--r*\n",
    "> - muestre si tu nombre es un nombre compuesto"
   ]
  },
  {
   "cell_type": "code",
   "execution_count": null,
   "metadata": {
    "dotnet_interactive": {
     "language": "csharp"
    },
    "vscode": {
     "languageId": "polyglot-notebook"
    }
   },
   "outputs": [],
   "source": [
    "// Escribe aquí el código del programa\n",
    " \n",
    " "
   ]
  }
 ],
 "metadata": {
  "kernelspec": {
   "display_name": ".NET (C#)",
   "language": "C#",
   "name": ".net-csharp"
  },
  "language_info": {
   "name": "C#"
  }
 },
 "nbformat": 4,
 "nbformat_minor": 2
}
