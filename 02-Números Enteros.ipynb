{
 "cells": [
  {
   "attachments": {},
   "cell_type": "markdown",
   "metadata": {
    "vscode": {
     "languageId": "dotnet-interactive.csharp"
    }
   },
   "source": [
    "## Enteros en C#\n",
    "\n",
    "Ya has visto como trabajar con cadenas de caracteres en C#, a continuación vas a aprender a trabajar con números enteros y reales.\n",
    "\n",
    "### Tipos de datos\n",
    "\n",
    "El propósito de cualquier lenguaje de programación es procesar datos de todo tipo: números, textos, imágenes, sonidos, etc.\n",
    "\n",
    "En el diccionario encontramos las siguientes definiones de **dato**: \n",
    "1. Información sobre algo concreto que permite su conocimiento exacto o sirve para deducir las consecuencias derivadas de un hecho.\n",
    "\n",
    "2. (Informática) Información dispuesta de manera adecuada para su tratamiento por una computadora.\n",
    "\n",
    "Vemos que existen distintos tipos de datos dependiendo del tipo de información, estos distintos tipos de datos van a necesitar ditintas formas de representación interna en un ordenador.  \n",
    "Los lenguajes de programación permiten manejar distintos **tipos de datos** que permitirán indicar a la computadora la clase de datos que se van a manejar.\n",
    "\n",
    "Has visto que el tipo **string** permite representar texto.\n",
    "\n",
    "El tipo **int** o integer representa números enteros, tiene una longitud de 32 bits y puede representar enteros en el rango que va desde el -2.147.483.648 al 2.147.483.647 \n",
    "\n",
    "El tipo **double** permite representar números reales en coma flotante de 64 bits, sigue el estándar de representación IEEE 754. (permite la notación científica para números muy grandes).\n",
    "\n",
    "### Caracteres\n",
    "\n",
    "El tipo **string** es una cadena de caracteres, es decir cada elemento de la cadena es un carácter. \n",
    "La palabra clave para identificar este tipo de dato en C# es **char**.\n",
    "El tipo de dato carácter representa una unidad fundamental de texto usada en cualquier alfabeto, un número o un signo de puntuación o exclamación.\n",
    "Un carácter se representa internamente como un binario de 16 bits utilizando la codificación Unicode UTF-16. Los primeros valores de unicode coinciden con los valores de la codificación [ASCII](https://elcodigoascii.com.ar/), así el caracter 'A' se corresponde con el valor 65. "
   ]
  },
  {
   "cell_type": "code",
   "execution_count": 4,
   "metadata": {
    "dotnet_interactive": {
     "language": "csharp"
    }
   },
   "outputs": [
    {
     "name": "stdout",
     "output_type": "stream",
     "text": [
      "B\n",
      "98\n"
     ]
    }
   ],
   "source": [
    "// poner ejemplos de caracteres\n",
    "char B = 'B';\n",
    "Console.WriteLine(B);\n",
    "\n",
    "int b = 'b';\n",
    "Console.WriteLine(b);\n",
    "\n"
   ]
  },
  {
   "attachments": {},
   "cell_type": "markdown",
   "metadata": {},
   "source": [
    "El tipo **char** dispone de una serie de métodos que permiten validar tipos de caracteres y hacer operaciones con ellos. Algunos de estos métodos son:  \n",
    "*GetNumericValue, IsDigit, IsLetter, IsNumber, IsPunctuation, IsSymbol, IsWhiteSpace, ToLower, ToUpper*"
   ]
  },
  {
   "cell_type": "code",
   "execution_count": 5,
   "metadata": {
    "dotnet_interactive": {
     "language": "csharp"
    }
   },
   "outputs": [
    {
     "name": "stdout",
     "output_type": "stream",
     "text": [
      "True\n",
      "True\n",
      "False\n",
      "True\n",
      "False\n",
      "False\n",
      "False\n",
      "True\n",
      "True\n",
      "False\n",
      "I\n"
     ]
    }
   ],
   "source": [
    "// Mostrar ejemplos de uso de los métodos\n",
    "char three = '3';\n",
    "Console.WriteLine(char.IsDigit(three));\n",
    "Console.WriteLine(char.IsNumber(three));\n",
    "Console.WriteLine(char.IsLetter(three));\n",
    "char coma = ',';\n",
    "Console.WriteLine(char.IsPunctuation(coma));\n",
    "Console.WriteLine(char.IsNumber(coma));\n",
    "char i = 'i';\n",
    "Console.WriteLine(char.IsPunctuation(i));\n",
    "Console.WriteLine(char.IsNumber(i));\n",
    "Console.WriteLine(char.IsLetter(i));\n",
    "Console.WriteLine(char.IsLower(i));\n",
    "Console.WriteLine(char.IsUpper(i));\n",
    "Console.WriteLine(char.ToUpper(i));\n",
    "\n"
   ]
  },
  {
   "attachments": {},
   "cell_type": "markdown",
   "metadata": {
    "vscode": {
     "languageId": "dotnet-interactive.csharp"
    }
   },
   "source": [
    "### Tipos de Enteros en C#\n",
    "\n",
    "La siguiente tabla muestra las características de los tipos enteros disponibles en C#\n",
    "\n",
    "|Tipo|Intervalo|Tamaño|\n",
    "|:---|:--------|:------|\n",
    "|sbyte|De -128 a 127|8 bits con signo|\n",
    "|byte|De 0 a 255|8 bits sin signo|\n",
    "|short|De -32.768 a 32.767|16 bits con signo|\n",
    "|ushort|De 0 a 65.535|16 bits sin signo|\n",
    "|int|De -2.147.483.648 a 2.147.483.647|32 bits con signo|\n",
    "|uint|De 0 a 4.294.967.2951|32 bits sin signo|\n",
    "|long|De -9.223.372.036.854.775.808 a 9.223.372.036.854.775.807|64 bits con signo|\n",
    "|ulong|De 0 a 18.446.744.073.709.551.615|64 bits sin signo|\n",
    "\n",
    "En general, y salvo que necesitemos otro tipo por alguna razón, usaremos el tipo **int** de 32 bits.\n",
    "\n",
    "Veamos como indicar valores enteros literales en un programa:"
   ]
  },
  {
   "cell_type": "code",
   "execution_count": 6,
   "metadata": {
    "dotnet_interactive": {
     "language": "csharp"
    }
   },
   "outputs": [
    {
     "name": "stdout",
     "output_type": "stream",
     "text": [
      "7\n",
      "-20\n",
      "53\n",
      "9\n",
      "105\n",
      "43\n",
      "230020000\n",
      "10\n",
      "14\n"
     ]
    }
   ],
   "source": [
    "// Mostrar varios positivos, cero y negativos\n",
    "Console.WriteLine(7);\n",
    "Console.WriteLine(-20);\n",
    "Console.WriteLine(53);\n",
    "Console.WriteLine(4+5);\n",
    "Console.WriteLine('4'+'5');\n",
    "Console.WriteLine(\"4\"+\"3\");\n",
    "\n",
    "// El guión bajo o underscore, _, es solo un separador que nos ayuda a ver el valor y es ignorado por C#\n",
    "// Mostrar número con _\n",
    "Console.WriteLine(230_020_000);\n",
    "\n",
    "// 0x indica que el número está expresado en hexadecimal\n",
    "// Mostrar hexadecimal\n",
    "Console.WriteLine(0xA);\n",
    "\n",
    "\n",
    "// 0b idica que el número está expresado en binario\n",
    "// Mostrar binario\n",
    "Console.WriteLine(0b1110)"
   ]
  },
  {
   "cell_type": "markdown",
   "metadata": {},
   "source": []
  },
  {
   "attachments": {},
   "cell_type": "markdown",
   "metadata": {},
   "source": [
    "### Operadores aritméticos\n",
    "\n",
    "Cada tipo de dato va a tener unos operadores que permitirán realizar operaciones sobre los datos pertenecientes a dichos tipos. \n",
    "\n",
    "A continuación se detallan los operadores aritméticos disponibles para el tipo de datos **int**\n",
    "\n",
    "|Signo|Operador|\n",
    "|:-----:|--------|\n",
    "|-|Cambio de signo (unario)|\n",
    "|+|Suma|\n",
    "|-|Resta|\n",
    "|*|Multiplicación|\n",
    "|/|División|\n",
    "|%|Módulo o resto de la división|\n",
    "\n",
    "Puedes comprobar como funcionan  \n",
    "*TIP*: Cuidado con la división ya que se trata de la **división entera** y \"se pierde\" la parte decimal"
   ]
  },
  {
   "cell_type": "code",
   "execution_count": 7,
   "metadata": {
    "dotnet_interactive": {
     "language": "csharp"
    }
   },
   "outputs": [
    {
     "name": "stdout",
     "output_type": "stream",
     "text": [
      "7\n",
      "11\n",
      "5\n",
      "24\n",
      "2\n",
      "2\n",
      "2\n",
      "23 = 4 x 5 + 3\n"
     ]
    }
   ],
   "source": [
    "// Mostrar menos un número\n",
    "int i = -7;\n",
    "Console.WriteLine(-i);\n",
    "// Mostrar suma, resta, multiplicación\n",
    "int j = 3;\n",
    "int k = 8;\n",
    "Console.WriteLine(j + k);\n",
    "Console.WriteLine(k- j);\n",
    "Console.WriteLine(k * j);\n",
    "\n",
    "// Mostrar división exacta\n",
    "Console.WriteLine(10/5);\n",
    "// Mostrar división con resto\n",
    "Console.WriteLine(k / j);\n",
    "Console.WriteLine(k % j); \n",
    "\n",
    "// Mostrar dividend = divisor X quotient + remainder\n",
    "// crear variables y mostrar resultado\n",
    "int dividend = 23;\n",
    "int divisor = 4;\n",
    "int quotient = dividend / divisor;\n",
    "int remainder = dividend % divisor;\n",
    "Console.WriteLine($\"{dividend} = {divisor} x {quotient} + {remainder}\");\n"
   ]
  },
  {
   "attachments": {},
   "cell_type": "markdown",
   "metadata": {},
   "source": [
    "### Orden de las operaciones\n",
    "El orden de las operaciones es el mismo que en matemáticas, primero se aplica el producto (o la división) y luego la suma (o la resta)"
   ]
  },
  {
   "cell_type": "code",
   "execution_count": 8,
   "metadata": {
    "dotnet_interactive": {
     "language": "csharp"
    }
   },
   "outputs": [
    {
     "name": "stdout",
     "output_type": "stream",
     "text": [
      "18\r\n"
     ]
    }
   ],
   "source": [
    "// a + b * c\n",
    "Console.WriteLine(6 + 4 * 3);"
   ]
  },
  {
   "attachments": {},
   "cell_type": "markdown",
   "metadata": {},
   "source": [
    "### Uso de paréntesis\n",
    "Puedes forzar el orden que necesites al aplicar las operaciones con el uso de paréntesis "
   ]
  },
  {
   "cell_type": "code",
   "execution_count": 6,
   "metadata": {
    "dotnet_interactive": {
     "language": "csharp"
    }
   },
   "outputs": [
    {
     "name": "stdout",
     "output_type": "stream",
     "text": [
      "18\n",
      "-26\n"
     ]
    }
   ],
   "source": [
    "// (a + b) * c\n",
    "Console.WriteLine((2 + 4) * 3);\n",
    "\n",
    "Console.WriteLine(i - j * (k-i));"
   ]
  },
  {
   "attachments": {},
   "cell_type": "markdown",
   "metadata": {},
   "source": [
    "### Valores Máximo y Mínimo para **int**\n",
    "Existen constantes con los valores máximo y mínimo del tipo int "
   ]
  },
  {
   "cell_type": "code",
   "execution_count": 8,
   "metadata": {
    "dotnet_interactive": {
     "language": "csharp"
    }
   },
   "outputs": [
    {
     "name": "stdout",
     "output_type": "stream",
     "text": [
      "-2147483648\n",
      "2147483647\n",
      "-2147483648\n"
     ]
    }
   ],
   "source": [
    "// Mostrar máximo y mínimo\n",
    "Console.WriteLine(int.MinValue);\n",
    "Console.WriteLine(int.MaxValue);\n",
    " \n",
    "// Provocar overflow\n",
    "int max = int.MaxValue;\n",
    "max = max + 1;\n",
    "Console.WriteLine(max);\n"
   ]
  },
  {
   "attachments": {},
   "cell_type": "markdown",
   "metadata": {},
   "source": [
    "**Ejercicio 1**  \n",
    ">  \n",
    "> Haz un programa que calcule el área de un cuadrado"
   ]
  },
  {
   "cell_type": "code",
   "execution_count": 9,
   "metadata": {
    "dotnet_interactive": {
     "language": "csharp"
    }
   },
   "outputs": [
    {
     "name": "stdout",
     "output_type": "stream",
     "text": [
      "2809\r\n"
     ]
    }
   ],
   "source": [
    "// Escribe aquí el código del programa\n",
    " int L = '5';\n",
    " Console.WriteLine(L * L);\n",
    "\n",
    " "
   ]
  },
  {
   "attachments": {},
   "cell_type": "markdown",
   "metadata": {},
   "source": [
    "**Ejercicio 2**  \n",
    ">  \n",
    "> Haz un programa y\n",
    "> - Crea una variable entera llamada i que valga 3\n",
    "> - Crea una variable entera llamada j que valga el doble de i\n",
    "> - Crea una variable entera llamada k que valga el triple de j\n",
    "> - Cambia el valor de i por su valor dividido por 2\n",
    "> - Muestra por pantalla el valor de k\n",
    "> - Crea una variable entera llamada l que valga la mitad de 36\n",
    "> - Muestra el valor de l"
   ]
  },
  {
   "cell_type": "code",
   "execution_count": 10,
   "metadata": {
    "dotnet_interactive": {
     "language": "csharp"
    }
   },
   "outputs": [
    {
     "name": "stdout",
     "output_type": "stream",
     "text": [
      "3\n",
      "6\n",
      "18\n",
      "1\n",
      "18\n",
      "18\n"
     ]
    }
   ],
   "source": [
    "// Escribe aquí el código del programa\n",
    " int i= 3;\n",
    "Console.WriteLine(i);\n",
    " int j = i * 2;\n",
    "Console.WriteLine(j);\n",
    "int k = j * 3;\n",
    "Console.WriteLine(k);\n",
    "Console.WriteLine( i / 2);\n",
    "Console.WriteLine(k);\n",
    "int l = 36/2;\n",
    "Console.WriteLine(l);\n",
    "\n",
    "\n"
   ]
  },
  {
   "attachments": {},
   "cell_type": "markdown",
   "metadata": {},
   "source": [
    "**Ejercicio 3**  \n",
    ">  \n",
    "> Realiza un programa que dada dos variables n y m, intercambie los valores de n y m. Ayuda: Utiliza una variable auxiliar aux para guardar el valor de una variable y permitir el intercambio."
   ]
  },
  {
   "cell_type": "code",
   "execution_count": null,
   "metadata": {
    "dotnet_interactive": {
     "language": "csharp"
    }
   },
   "outputs": [],
   "source": [
    "// Escribe aquí el código del programa\n",
    "int m = 2;\n",
    "int n = 4;\n",
    "\n",
    " \n"
   ]
  },
  {
   "attachments": {},
   "cell_type": "markdown",
   "metadata": {},
   "source": [
    "**Ejercicio 4**  \n",
    ">  \n",
    "> Realiza un programa que dada dos variables n y m, intercambie los valores de n y m sin la ayuda de ninguna variable auxiliar."
   ]
  },
  {
   "cell_type": "code",
   "execution_count": null,
   "metadata": {
    "dotnet_interactive": {
     "language": "csharp"
    }
   },
   "outputs": [],
   "source": [
    "// Escribe aquí el código del programa\n",
    " \n",
    " "
   ]
  },
  {
   "attachments": {},
   "cell_type": "markdown",
   "metadata": {},
   "source": [
    "**Ejercicio 5**  \n",
    ">  \n",
    "> Realiza un programa con una variable entera t la cual contiene un tiempo en segundos. El programa debe mostrar este tiempo expresado en horas, minutos y segundos."
   ]
  },
  {
   "cell_type": "code",
   "execution_count": null,
   "metadata": {
    "dotnet_interactive": {
     "language": "csharp"
    }
   },
   "outputs": [],
   "source": [
    "// Escribe aquí el código del programa\n",
    " \n"
   ]
  }
 ],
 "metadata": {
  "kernelspec": {
   "display_name": ".NET (C#)",
   "language": "C#",
   "name": ".net-csharp"
  },
  "language_info": {
   "name": "polyglot-notebook"
  },
  "polyglot_notebook": {
   "kernelInfo": {
    "defaultKernelName": "csharp",
    "items": [
     {
      "aliases": [],
      "name": ".NET"
     },
     {
      "aliases": [
       "C#",
       "c#"
      ],
      "languageName": "C#",
      "name": "csharp"
     },
     {
      "aliases": [
       "F#",
       "f#"
      ],
      "languageName": "F#",
      "name": "fsharp"
     },
     {
      "aliases": [],
      "languageName": "HTML",
      "name": "html"
     },
     {
      "aliases": [
       "js"
      ],
      "languageName": "JavaScript",
      "name": "javascript"
     },
     {
      "aliases": [],
      "languageName": "KQL",
      "name": "kql"
     },
     {
      "aliases": [],
      "languageName": "Mermaid",
      "name": "mermaid"
     },
     {
      "aliases": [
       "powershell"
      ],
      "languageName": "PowerShell",
      "name": "pwsh"
     },
     {
      "aliases": [],
      "languageName": "SQL",
      "name": "sql"
     },
     {
      "aliases": [],
      "name": "value"
     },
     {
      "aliases": [
       "frontend"
      ],
      "name": "vscode"
     },
     {
      "aliases": [],
      "name": "webview"
     }
    ]
   }
  }
 },
 "nbformat": 4,
 "nbformat_minor": 2
}
