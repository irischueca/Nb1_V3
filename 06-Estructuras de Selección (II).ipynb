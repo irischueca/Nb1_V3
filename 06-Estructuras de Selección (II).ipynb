{
 "cells": [
  {
   "cell_type": "markdown",
   "metadata": {},
   "source": [
    "# Estructuras de Selección (II)\n",
    "\n",
    "### Selección múltiple: ***if / else if … / else***\n",
    "Hasta ahora hemos visto opciones de selección simples o dobles: se ejecuta algo si se cumple una condición y, en todo caso, se ejecuta otra acción si no se cumple.  \n",
    "También existe la posibilidad de que haya un número arbitrario de caminos alternativos, no sólo dos.   \n",
    "\n",
    "Por ejemplo, imaginemos un programa que, a partir de la nota numérica de un examen, establece cuál es la calificación del alumno. Por eso habrá que ver dentro de qué rango se encuentra el número. En cualquier caso, los resultados posibles son más de dos.  \n",
    "\n",
    "La estructura de **selección múltiple** permite controlar el hecho de que al cumplirse un caso entre un conjunto finito de casos se ejecute el conjunto de instrucciones correspondiente.\n"
   ]
  },
  {
   "cell_type": "code",
   "execution_count": 2,
   "metadata": {
    "dotnet_interactive": {
     "language": "csharp"
    }
   },
   "outputs": [
    {
     "name": "stdout",
     "output_type": "stream",
     "text": [
      "9 - Sobresaliente\r\n"
     ]
    }
   ],
   "source": [
    "// calificación (aprobado, bien, notable, etc) en función de la nota numérica\n",
    "Random rand = new Random();\n",
    "int calificacion = rand.Next(0,10);\n",
    "\n",
    "// múltiple if para obtener la nota del trimestre\n",
    "string nota = string.Empty;\n",
    "if(calificacion >= 9)\n",
    "{\n",
    "    nota = \"Sobresaliente\";\n",
    "}\n",
    "else if(calificacion >= 7)\n",
    "{\n",
    "    nota = \"Notable\";\n",
    "}\n",
    "else if(calificacion >= 6)\n",
    "{\n",
    "    nota = \"Bien\";\n",
    "}\n",
    "else if(calificacion >= 5)\n",
    "{\n",
    "    nota = \"Suficiente\";\n",
    "}\n",
    "else \n",
    "{\n",
    "    nota = \"Insuficiente\";\n",
    "}\n",
    "\n",
    "Console.WriteLine($\"{calificacion} - {nota}\");"
   ]
  },
  {
   "cell_type": "markdown",
   "metadata": {},
   "source": [
    "**Ejercicio 1**\n",
    "\n",
    "> En el siguiente [enlace](https://www.dgt.es/nuestros-servicios/multas-y-sanciones/conoce-los-tipos-de-infracciones-y-sanciones/#nav-0-20110732-aae9-11ea-ac63-005056a48f82-00002___) puedes ver las multas por exceso de velocidad en función del límite de velocidad de la vía.  \n",
    "> Crea un programa que al introducir la velocidad del vehículo muestre la multa correspondiente para una vía urbana de 30 Km/h.  "
   ]
  },
  {
   "cell_type": "code",
   "execution_count": 4,
   "metadata": {
    "dotnet_interactive": {
     "language": "csharp"
    }
   },
   "outputs": [
    {
     "name": "stdout",
     "output_type": "stream",
     "text": [
      "Velocidad 56 - Multa: 300 - Puntos: 2\r\n"
     ]
    }
   ],
   "source": [
    "// Escribe aquí el código de tu programa\n",
    "Random rand = new Random();\n",
    "int v = rand.Next(100);\n",
    "double multa = 0.0;\n",
    "int puntos = 0;\n",
    "if(v>80)\n",
    "{\n",
    "    multa = 600.0;\n",
    "    puntos = 6;\n",
    "}\n",
    "else if(v>70)\n",
    "{\n",
    "    multa = 500.0;\n",
    "    puntos = 6;\n",
    "}\n",
    "else if(v>60)\n",
    "{\n",
    "    multa = 400.0;\n",
    "    puntos = 4;\n",
    "}\n",
    "else if(v>50)\n",
    "{\n",
    "multa = 300.0;\n",
    "puntos = 2;\n",
    "}\n",
    "else if(v>30)\n",
    "{\n",
    "    multa = 100.0;\n",
    "    puntos = 2;\n",
    "}\n",
    "else\n",
    "{\n",
    "    multa = 0.0;\n",
    "    puntos = 0;\n",
    "}\n",
    "\n",
    "string res = $\"Velocidad {v}\";\n",
    "if(multa>0.0)\n",
    "{\n",
    "    res = res + \" - Multa: \" + multa;\n",
    "}\n",
    "if(puntos>0)\n",
    "{\n",
    "    res = res + \" - Puntos: \" + puntos;\n",
    "}\n",
    "Console.WriteLine(res);"
   ]
  },
  {
   "cell_type": "markdown",
   "metadata": {},
   "source": [
    "### Sentencia ***switch***\n",
    "\n",
    "Existe otra estructura de selección que en lugar de evaluar una expresión booleana evalúa un valor discreto (número entero, cadena de caracteres) y ejecuta el bloque de código correspondiente al valor evaluado.\n",
    "\n",
    "Veamos la sintaxis en el siguiente ejemplo: "
   ]
  },
  {
   "cell_type": "code",
   "execution_count": 13,
   "metadata": {
    "dotnet_interactive": {
     "language": "csharp"
    }
   },
   "outputs": [
    {
     "name": "stdout",
     "output_type": "stream",
     "text": [
      "Resultado = 10\r\n"
     ]
    }
   ],
   "source": [
    "// operación 1: suma, 2: resta, 3: multiplicación: 4: división\n",
    "// operando 1, operando 2\n",
    "int operacion = 1;\n",
    "int oper1 = 3;\n",
    "int oper2 = 7;\n",
    "int resultado = 0;\n",
    "\n",
    "switch(operacion)\n",
    "{\n",
    "    case 1: \n",
    "        resultado = oper1 + oper2;\n",
    "        break;\n",
    "    case 2:\n",
    "        resultado = oper1 + oper2;\n",
    "        break;\n",
    "    case 3:\n",
    "        resultado = oper1 * oper2;\n",
    "        break;\n",
    "    case 4:\n",
    "        resultado = oper1 / oper2;\n",
    "        break;\n",
    "    default:\n",
    "        Console.WriteLine(\"Operación Inválida\");\n",
    "        break;\n",
    "}\n",
    "\n",
    "Console.WriteLine(\"Resultado = \" + resultado);\n"
   ]
  },
  {
   "cell_type": "markdown",
   "metadata": {},
   "source": [
    "La sentencia *break* al final del bloque de opción indica a C# que la ejecución debe salir del bloque *switch*. Si no se incluye lo que ocurre es que la ejecución continua con el con el siguiente bloque de opción hasta que encuentra un *break* o el bloque *switch* termina.      \n",
    "El bloque *default* se debe incluir el último y ejecuta cuando el valor evaluado no coincide con ninguno de los valores de opción anteriores.  \n",
    "Desde la versión 9 del lenguaje se permite la inclusión de operadores relaciones de comparación (>, <) en la instrucción *case*, por ejemplo *case > 2*."
   ]
  },
  {
   "cell_type": "markdown",
   "metadata": {},
   "source": [
    "**Ejercicio 2**\n",
    "\n",
    "> Crea un programa que elija al azar un mes del año por su valor numérico (1 a 12) y después indique el número de días de dicho mes.  "
   ]
  },
  {
   "cell_type": "code",
   "execution_count": 17,
   "metadata": {
    "dotnet_interactive": {
     "language": "csharp"
    }
   },
   "outputs": [
    {
     "name": "stdout",
     "output_type": "stream",
     "text": [
      "El mes 3 tiene 31 días\r\n"
     ]
    }
   ],
   "source": [
    "// Escribe aquí el código de tu programa\n",
    "Random rand = new Random();\n",
    "int mes = rand.Next(12) + 1;\n",
    "int dias = 0;\n",
    "\n",
    "switch(mes)\n",
    "{\n",
    "    case 1:\n",
    "    case 3:\n",
    "    case 5:\n",
    "    case 7: \n",
    "    case 8:\n",
    "    case 10:\n",
    "    case 12:\n",
    "        dias = 31;\n",
    "        break;\n",
    "    case 4:\n",
    "    case 6:\n",
    "    case 9:\n",
    "    case 11:\n",
    "        dias = 30;\n",
    "        break;\n",
    "    case 2:\n",
    "        dias = 28;\n",
    "        break;\n",
    "    default:\n",
    "        Console.WriteLine(\"Mes incorrecto: \" + mes);\n",
    "        break;\n",
    "}\n",
    "\n",
    "Console.WriteLine($\"El mes {mes} tiene {dias} días\");\n",
    " "
   ]
  },
  {
   "cell_type": "markdown",
   "metadata": {},
   "source": [
    "**Ejercicio 3**\n",
    "\n",
    "> Codifica un programa que al introducir un día de la semana devuelva la actividad extraexcolar correspondiente.  \n",
    "> Si el día no tiene ninguna actividad debe devolver esta circunstancia. Si el valor introducido no corresponde a ninguno de los días debe devolver un mensaje de “Valor erróneo”.  \n",
    ">\n",
    "> 1 – lunes: Música  \n",
    "> 2 – martes: Natación  \n",
    "> 3 – miércoles: Inglés  \n",
    "> 4 – jueves: Natación  \n",
    "> 5 – viernes: -  \n",
    "> 6 – sábado: Deporte escolar  \n",
    "> 7 – domingo: -    "
   ]
  },
  {
   "cell_type": "code",
   "execution_count": null,
   "metadata": {
    "dotnet_interactive": {
     "language": "csharp"
    }
   },
   "outputs": [],
   "source": [
    "// Escribe aquí el código de tu programa\n",
    " \n",
    " "
   ]
  }
 ],
 "metadata": {
  "kernelspec": {
   "display_name": ".NET (C#)",
   "language": "C#",
   "name": ".net-csharp"
  },
  "language_info": {
   "name": "polyglot-notebook"
  },
  "polyglot_notebook": {
   "kernelInfo": {
    "defaultKernelName": "csharp",
    "items": [
     {
      "aliases": [],
      "name": ".NET"
     },
     {
      "aliases": [
       "C#",
       "c#"
      ],
      "languageName": "C#",
      "name": "csharp"
     },
     {
      "aliases": [
       "F#",
       "f#"
      ],
      "languageName": "F#",
      "name": "fsharp"
     },
     {
      "aliases": [],
      "languageName": "HTML",
      "name": "html"
     },
     {
      "aliases": [
       "js"
      ],
      "languageName": "JavaScript",
      "name": "javascript"
     },
     {
      "aliases": [],
      "languageName": "KQL",
      "name": "kql"
     },
     {
      "aliases": [],
      "languageName": "Mermaid",
      "name": "mermaid"
     },
     {
      "aliases": [
       "powershell"
      ],
      "languageName": "PowerShell",
      "name": "pwsh"
     },
     {
      "aliases": [],
      "languageName": "SQL",
      "name": "sql"
     },
     {
      "aliases": [],
      "name": "value"
     },
     {
      "aliases": [
       "frontend"
      ],
      "name": "vscode"
     },
     {
      "aliases": [],
      "name": "webview"
     }
    ]
   }
  }
 },
 "nbformat": 4,
 "nbformat_minor": 2
}
