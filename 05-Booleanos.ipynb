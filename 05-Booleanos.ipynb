{
 "cells": [
  {
   "cell_type": "markdown",
   "metadata": {
    "vscode": {
     "languageId": "dotnet-interactive.csharp"
    }
   },
   "source": [
    "# Booleanos\n",
    "\n",
    "El tipo de dato **booleano** representa un valor de tipo lógico para establecer la certeza o falsedad de un estado o afirmación.  \n",
    "Solo hay 2 valores booleanos: verdadero y falso.  \n",
    "Un literal de tipo booleano se representa con las palabras en inglés: ***true***, ***false***"
   ]
  },
  {
   "cell_type": "code",
   "execution_count": 1,
   "metadata": {
    "dotnet_interactive": {
     "language": "csharp"
    }
   },
   "outputs": [
    {
     "name": "stdout",
     "output_type": "stream",
     "text": [
      "True\n",
      "False\n"
     ]
    },
    {
     "data": {
      "text/html": [
       "<div class=\"dni-plaintext\"><pre>True</pre></div><style>\r\n",
       ".dni-code-hint {\r\n",
       "    font-style: italic;\r\n",
       "    overflow: hidden;\r\n",
       "    white-space: nowrap;\r\n",
       "}\r\n",
       ".dni-treeview {\r\n",
       "    white-space: nowrap;\r\n",
       "}\r\n",
       ".dni-treeview td {\r\n",
       "    vertical-align: top;\r\n",
       "    text-align: start;\r\n",
       "}\r\n",
       "details.dni-treeview {\r\n",
       "    padding-left: 1em;\r\n",
       "}\r\n",
       "table td {\r\n",
       "    text-align: start;\r\n",
       "}\r\n",
       "table tr { \r\n",
       "    vertical-align: top; \r\n",
       "    margin: 0em 0px;\r\n",
       "}\r\n",
       "table tr td pre \r\n",
       "{ \r\n",
       "    vertical-align: top !important; \r\n",
       "    margin: 0em 0px !important;\r\n",
       "} \r\n",
       "table th {\r\n",
       "    text-align: start;\r\n",
       "}\r\n",
       "</style>"
      ]
     },
     "metadata": {},
     "output_type": "display_data"
    }
   ],
   "source": [
    "// Mostrar literales booleanos\n",
    "Console.WriteLine(true);\n",
    "Console.WriteLine(false);\n",
    "bool a = true;\n",
    "a\n",
    " "
   ]
  },
  {
   "cell_type": "markdown",
   "metadata": {},
   "source": [
    "### Operadores booleanos\n",
    "\n",
    "El tipo de dato booleano debe su nombre al álgebra de Boole, que es el conjunto de normas y operaciones que rigen cómo se pueden combinar los valores verdadero y falso.  \n",
    "Las operaciones lógicas que se pueden aplicar son:\n",
    "- **NOT** representado por **!**\n",
    "- **AND** representado por **&&**\n",
    "- **OR** representado por **||**\n",
    "- **XOR** representado por **^**  \n",
    "\n",
    "Para este tipo de operaciones, una manera sencilla de plasmar su resultado al ser aplicados sobre datos de tipo booleano es usar una tabla de verdad.  \n",
    "Las **tablas de verdad** son una representación que nos permite averiguar, con claridad y fiabilidad, todos los resultados posibles de una operación a partir de todas las combinaciones de los valores posibles de los operandos.  \n",
    "\n",
    "|A|B|A \\&\\& B|A \\|\\| B | !A | A\\^B|\n",
    "|:-:|:-:|:------:|:-------:|:--:|:---:|\n",
    "|False|False|False|False|True|False|\n",
    "|False|True|False|True|True|True|\n",
    "|True|False|False|True|False|True|\n",
    "|True|True|True|True|False|False|\n",
    "\n",
    "Resumiendo:\n",
    "- La negación da como resultado el valor contrario.\n",
    "- AND es cierto si los dos operandos son ciertos.\n",
    "- OR es cierto si alguno de los operandos lo es.\n",
    "- XOR es cierta sólo si uno de los operandos es cierto, pero no si lo son los dos."
   ]
  },
  {
   "cell_type": "code",
   "execution_count": 3,
   "metadata": {
    "dotnet_interactive": {
     "language": "csharp"
    }
   },
   "outputs": [
    {
     "name": "stdout",
     "output_type": "stream",
     "text": [
      "Cumple con la renta: True\n",
      "Cumple con la nota: True\n",
      "Te corresponde beca: True\n",
      "Beca denegada: False\n",
      "Ha llovido: True; Han regado : False\n",
      "El suelo está mojado: True\n"
     ]
    }
   ],
   "source": [
    "// Mostrar ejemplos de operaciones\n",
    "int renta = 30000;\n",
    "int nota = 8;\n",
    "bool condRenta = renta < 40000;\n",
    "bool condNota = nota > 5;\n",
    "\n",
    "Console.WriteLine(\"Cumple con la renta: \" + condRenta);\n",
    "Console.WriteLine(\"Cumple con la nota: \" + condNota);\n",
    "\n",
    "bool beca = condRenta && condNota;\n",
    "Console.WriteLine(\"Te corresponde beca: \" + beca);\n",
    "\n",
    "bool becaDenegada = !beca;\n",
    "Console.WriteLine(\"Beca denegada: \" + becaDenegada);\n",
    "\n",
    "bool haLlovido = true;\n",
    "bool hanRegado = false;\n",
    "Console.WriteLine($\"Ha llovido: {haLlovido}; Han regado : {hanRegado}\");\n",
    "\n",
    "bool sueloMojado = haLlovido || hanRegado;\n",
    "Console.WriteLine(\"El suelo está mojado: \" + sueloMojado);\n",
    "\n"
   ]
  },
  {
   "cell_type": "markdown",
   "metadata": {},
   "source": [
    "## Operadores Relacionales\n",
    "\n",
    "Revisando algunas definiciones matemáticas, nos damos cuenta que los números conforman un conjunto ordenado. Cada uno tiene una posición relativa.  \n",
    "Sabemos que el 2 es menor que el 4 y que el 6 es mayor que el 1.   \n",
    "Al comparar dos números, realizamos una función de relación.  \n",
    "En C# disponemos de los operadores relacionales para verificar si se cumple una relación.   \n",
    "Por ejemplo el operador de equivalencia ( == ) nos devuelve un valor de verdadero si los operandos son iguales.  \n",
    "\n",
    "|Operador|Utilización|Resultado|\n",
    "|:------:|:---------:|---------|\n",
    "|>|A > B|verdadero si A es mayor que B|\n",
    "|>=|A >= B|verdadero si A es mayor o igual que B|\n",
    "|<|A < B|verdadero si A es menor que B|\n",
    "|<=|A <= B|verdadero si A es menor o igual que B|\n",
    "|==|A == B|verdadero si A es igual a B|\n",
    "|!=|A != B|verdadero si A es distinto de B|\n",
    "\n",
    "Las operaciones de comparación >, >=, < y <== se aplican a tipos numéricos.  \n",
    "Entre los booleanos solo se permiten los operadores de equivalencia, es igual (==) o es distinto (!=)."
   ]
  },
  {
   "cell_type": "code",
   "execution_count": 4,
   "metadata": {
    "dotnet_interactive": {
     "language": "csharp"
    }
   },
   "outputs": [
    {
     "name": "stdout",
     "output_type": "stream",
     "text": [
      "False\n",
      "True\n",
      "True\n",
      "True\n"
     ]
    }
   ],
   "source": [
    "// Mostrar ejemplos de comparación de enteros, dobles, booleanos, caracteres y cadenas\n",
    "Console.WriteLine(3 > 4);\n",
    "int i = 1, j = 2;\n",
    "Console.WriteLine(i!=j);\n",
    "char a = 'a';\n",
    "char b = 'b';\n",
    "Console.WriteLine(a<b);\n",
    "Console.WriteLine(\"a\"!=\"b\");"
   ]
  },
  {
   "cell_type": "markdown",
   "metadata": {},
   "source": [
    "Los operadores relacionales pueden aplicarse a los tipos **char** obteniendo el resultado de la comparación de los números correspondientes a su representación binaria; la relación de orden resultante es básicamente el orden alfabético aunque las máyusculas van antes que las minúsculas, así la operación 'A' < 'a' devuelve true.  \n",
    "\n",
    "Para tipo **string** se pueden aplicar las operaciones de igualdad **==** y **!=** pero no las de orden **>**, **>=**, **<**, **<=**."
   ]
  },
  {
   "cell_type": "markdown",
   "metadata": {},
   "source": [
    "### Construcción de Expresiones\n",
    "\n",
    "Llamamos **expresión** a una combinación de operadores y operandos. Estos operandos serán literales, variables, constantes u otra expresión.\n",
    "Para construir una expresión debe ser correcta sintáctica y semánticamente. Desde el punto de vista sintáctico un operador binario tendrá que ser aplicado sobre dos operandos, por ejemplo.  \n",
    "Desde el punto de vista semántico el operador se aplicará sobre dos operandos del mismo tipo y este operador deberá ser válido para el tipo de dato que se está aplicando, así no podremos multiplicar cadenas de caracteres ni comparar cadenas y números.  \n",
    "\n",
    "Las siguientes expresiones serán inválidas:\n",
    "- `5.3 == '4'`, aunque reales y caracteres disponen de la operación igualdad, los dos literales pertenecen a tipos diferentes.\n",
    "- `true + false`, la operación suma no existe para los booleanos.\n",
    "- `-'g'`, la operación cambio de signo no existe para los caracteres.\n",
    "- `5 == false`, aunque en booleanos y enteros existe la igualdad, la operación es entre tipos diferentes.\n",
    "- `5 || 4.0`, se hace una operación entre tipos diferentes y, aparte, la operación OR no existe en los enteros ni en los reales."
   ]
  },
  {
   "cell_type": "code",
   "execution_count": 5,
   "metadata": {
    "dotnet_interactive": {
     "language": "csharp"
    }
   },
   "outputs": [
    {
     "name": "stdout",
     "output_type": "stream",
     "text": [
      "14\n",
      "20\n",
      "True\n"
     ]
    }
   ],
   "source": [
    "// Mostrar expresiones válidas\n",
    "int res = 2 + 3 * 4;\n",
    "Console.WriteLine(res);\n",
    "Console.WriteLine((2 +3) * 4);\n",
    "Console.WriteLine( 2 + 5 > 6);\n",
    "\n"
   ]
  },
  {
   "cell_type": "markdown",
   "metadata": {},
   "source": [
    "Entendemos por evaluar una expresión ir aplicando todos sus operadores sobre los diferentes datos que la conforman hasta llegar a un resultado final, que es el dato resultante.  \n",
    "La evaluación siempre se comienza calculando las expresiones que se encuentran entre paréntesis, en orden de más interno a más externo. \n",
    "Una vez han desaparecido todos los paréntesis, entonces se aplican las operaciones según su orden de precedencia.  \n",
    "\n",
    "El **orden de precedencia** de un conjunto de operadores es la regla usada para establecer de manera no ambigua el orden en que deben resolver las operaciones dentro de una expresión.    \n",
    "\n",
    "Las operaciones con orden de precedencia mayor evalúan antes que las de orden menor. Para las operaciones que se han descrito hasta ahora, este orden es el siguiente.   \n",
    "En caso de empate, se resuelve la expresión ordenadamente de izquierda a derecha.  \n",
    "\n",
    "El orden de precedencia de los operadores que hemos visto es el siguiente:\n",
    "|Orden|Operación|Operador|\n",
    "|-----|---------|--------|\n",
    "|1|Cambio de signo|- (unario)|\n",
    "|2|Producto, división y resto|\\* / %|\n",
    "|3|Suma y resta|+ -|\n",
    "|4|Relaciones de comparación|> >= < <=|\n",
    "|5|Relaciones de igualdad|== !=|\n",
    "|6|Negación|! (unario)|\n",
    "|7|XOR|^|\n",
    "|8|AND|&&|\n",
    "|9|OR|\\|\\||\n",
    "\n",
    "Aunque existe este orden, es muy recomendable que todas las expresiones basadas en un operador binario siempre se incluyan entre paréntesis cuando deben combinarse con nuevos operadores para generar expresiones complejas, con vistas a mejorar la legibilidad de la expresión general.\n",
    "\n",
    "Veamos un ejempo:  \n",
    ">`3 + 5 == 4 * 2 && 1.2 > 1.15 || 'a' == 'b'`  \n",
    ">\n",
    ">3 + 5 == <u>**4 \\* 2**</u> && 1.2 > 1.15 || 'a' == 'b'  \n",
    ">\n",
    "><u>**3 + 5**</u> == 8 && 1.2 > 1.15 || 'a' == 'b'  \n",
    ">\n",
    ">8 == 8 && <u>**1.2 > 1.15**</u> || 'a' == 'b'\n",
    ">\n",
    "><u>**8 == 8**</u> && true || 'a' == 'b'  \n",
    ">\n",
    ">true && true || <u>**'a' == 'b'**</u>  \n",
    ">\n",
    "><u>**true && true**</u> || false  \n",
    ">\n",
    "><u>**true || false**</u>  \n",
    ">\n",
    ">true  \n"
   ]
  },
  {
   "cell_type": "code",
   "execution_count": 6,
   "metadata": {
    "dotnet_interactive": {
     "language": "csharp"
    }
   },
   "outputs": [
    {
     "data": {
      "text/html": [
       "<div class=\"dni-plaintext\"><pre>True</pre></div><style>\r\n",
       ".dni-code-hint {\r\n",
       "    font-style: italic;\r\n",
       "    overflow: hidden;\r\n",
       "    white-space: nowrap;\r\n",
       "}\r\n",
       ".dni-treeview {\r\n",
       "    white-space: nowrap;\r\n",
       "}\r\n",
       ".dni-treeview td {\r\n",
       "    vertical-align: top;\r\n",
       "    text-align: start;\r\n",
       "}\r\n",
       "details.dni-treeview {\r\n",
       "    padding-left: 1em;\r\n",
       "}\r\n",
       "table td {\r\n",
       "    text-align: start;\r\n",
       "}\r\n",
       "table tr { \r\n",
       "    vertical-align: top; \r\n",
       "    margin: 0em 0px;\r\n",
       "}\r\n",
       "table tr td pre \r\n",
       "{ \r\n",
       "    vertical-align: top !important; \r\n",
       "    margin: 0em 0px !important;\r\n",
       "} \r\n",
       "table th {\r\n",
       "    text-align: start;\r\n",
       "}\r\n",
       "</style>"
      ]
     },
     "metadata": {},
     "output_type": "display_data"
    }
   ],
   "source": [
    "// Comprobación\n",
    "3 + 5 == 4 * 2 && 1.2 > 1.15 || 'a' == 'b'"
   ]
  },
  {
   "cell_type": "markdown",
   "metadata": {},
   "source": [
    "**Ejercicio 1**\n",
    "\n",
    "> ¿Cuál es el resultado de las siguientes expresiones?  \n",
    "> `6 * 3 - 1 * 7 + 5 % 2 * 2`  \n",
    "> `5 * 6 - 3 * 3 + 10 % 7 * 3`  \n",
    "> `(3+5==4*2)&&(1.2>1.15||'a'=='b')`  "
   ]
  },
  {
   "cell_type": "code",
   "execution_count": 7,
   "metadata": {
    "dotnet_interactive": {
     "language": "csharp"
    }
   },
   "outputs": [
    {
     "name": "stdout",
     "output_type": "stream",
     "text": [
      "13\n",
      "30\n",
      "True\n"
     ]
    }
   ],
   "source": [
    "// Compruébalo aquí\n",
    "Console.WriteLine(6 * 3 - 1 * 7 + 5 % 2 * 2);\n",
    "Console.WriteLine(5 * 6 - 3 * 3 + 10 % 7 * 3);\n",
    "Console.WriteLine((3+5==4*2)&&(1.2>1.15) || 'a' == 'b');\n",
    " \n",
    "\n",
    " "
   ]
  },
  {
   "cell_type": "markdown",
   "metadata": {},
   "source": [
    "**Ejercicio 2**\n",
    "> Codifica un programa que a partir de una cantidad expresada en euros, muestre dicha cantidad en pesetas.  \n",
    "> El cambio es 1€ = 166,386 pesetas.  \n",
    "> El programa debe validar si la cantidad es mayor o igual que cero, en ese caso calculará el cambio a pesetas, en caso contrario avisará de que la cantidad no puede ser negativa."
   ]
  },
  {
   "cell_type": "code",
   "execution_count": 9,
   "metadata": {
    "dotnet_interactive": {
     "language": "csharp"
    }
   },
   "outputs": [
    {
     "name": "stdout",
     "output_type": "stream",
     "text": [
      "0,5 € = 83,19 pesetas\r\n"
     ]
    }
   ],
   "source": [
    "// Escribe aquí el código de tu programa\n",
    "const double CONVERSION = 166.386;\n",
    "double euros = 0.5;\n",
    "if(euros<0)\n",
    "{\n",
    "    Console.WriteLine(\"La cantidad no puede ser negativa\");\n",
    "}\n",
    "else\n",
    "{\n",
    "    double pesetas = euros * CONVERSION;\n",
    "    pesetas = Math.Round(pesetas,2);\n",
    "    Console.WriteLine($\"{euros} € = {pesetas} pesetas\");\n",
    "}\n",
    "\n"
   ]
  },
  {
   "cell_type": "markdown",
   "metadata": {},
   "source": [
    "**Ejercicio 3**\n",
    "> Codifica que elija un número al azar entre 0 y 99.  \n",
    "> El programa deberá indicar:\n",
    "> - si el número es par o impar.\n",
    "> - si el múltiplo de 5\n",
    "> - si es par y múltiplo de 5 (que cumpla ambas condiciones)\n",
    "> - si es impar o múltiplo de 3 (que cumpla una de las condiciones)\n",
    "> - si es múltiplo de 3 o múltiplo de 5 pero que no sea mútiplo de 3 y 5 a la vez (que cumpla una de las condiciones pero no las 2)"
   ]
  },
  {
   "cell_type": "code",
   "execution_count": null,
   "metadata": {
    "dotnet_interactive": {
     "language": "csharp"
    }
   },
   "outputs": [],
   "source": [
    "// Escribe aquí el código de tu programa\n",
    "\n"
   ]
  }
 ],
 "metadata": {
  "kernelspec": {
   "display_name": ".NET (C#)",
   "language": "C#",
   "name": ".net-csharp"
  },
  "language_info": {
   "name": "polyglot-notebook"
  },
  "polyglot_notebook": {
   "kernelInfo": {
    "defaultKernelName": "csharp",
    "items": [
     {
      "aliases": [],
      "name": ".NET"
     },
     {
      "aliases": [
       "C#",
       "c#"
      ],
      "languageName": "C#",
      "name": "csharp"
     },
     {
      "aliases": [
       "F#",
       "f#"
      ],
      "languageName": "F#",
      "name": "fsharp"
     },
     {
      "aliases": [],
      "languageName": "HTML",
      "name": "html"
     },
     {
      "aliases": [
       "js"
      ],
      "languageName": "JavaScript",
      "name": "javascript"
     },
     {
      "aliases": [],
      "languageName": "KQL",
      "name": "kql"
     },
     {
      "aliases": [],
      "languageName": "Mermaid",
      "name": "mermaid"
     },
     {
      "aliases": [
       "powershell"
      ],
      "languageName": "PowerShell",
      "name": "pwsh"
     },
     {
      "aliases": [],
      "languageName": "SQL",
      "name": "sql"
     },
     {
      "aliases": [],
      "name": "value"
     },
     {
      "aliases": [
       "frontend"
      ],
      "name": "vscode"
     },
     {
      "aliases": [],
      "name": "webview"
     }
    ]
   }
  }
 },
 "nbformat": 4,
 "nbformat_minor": 2
}
