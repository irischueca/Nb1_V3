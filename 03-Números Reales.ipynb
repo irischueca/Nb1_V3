{
 "cells": [
  {
   "attachments": {},
   "cell_type": "markdown",
   "metadata": {},
   "source": [
    "# Números Reales en C#\n",
    "\n",
    "C# tiene los siguientes tipos de datos de números con coma flotante:\n",
    "\n",
    "|Tipo|Intervalo aproximado|Precisión|Tamaño|\n",
    "|----|--------------------|---------|------|\n",
    "|float|De ±1,5 x 10-45 a ±3,4 x 1038|De 6 a 9 dígitos aproximadamente|32 bits|\n",
    "|double|De ±5,0 × 10−324 a ±1,7 × 10308|De 15 a 17 dígitos aproximadamente|64 bits|\n",
    "|decimal|De ±1,0 x 10-28 a ±7,9228 x 1028|28-29 dígitos|128 bits|\n",
    "\n",
    "Como norma general usaremos el tipo **double**. El tipo **decimal** se recomienda para datos monetarios o financieros ya que tiene una mayor precisión.\n",
    "\n",
    "Veamos como escribir literales de números en coma flotante en un programa:"
   ]
  },
  {
   "cell_type": "code",
   "execution_count": 1,
   "metadata": {
    "dotnet_interactive": {
     "language": "csharp"
    }
   },
   "outputs": [
    {
     "name": "stdout",
     "output_type": "stream",
     "text": [
      "6,28\n",
      "600452000\n",
      "6,28\n",
      "6,28\n",
      "420\n"
     ]
    }
   ],
   "source": [
    "// double: número decimal, d o D. Admite separador _\n",
    "Console.WriteLine(6.28);\n",
    "Console.WriteLine(600_452_000);\n",
    "double real = 8.56;\n",
    "// float: f o F. Admite separador _\n",
    "float n = 6.28f;\n",
    "Console.WriteLine(n);\n",
    "// decimal: m o M. Admite separador _\n",
    "decimal n1 = 6.28m;\n",
    "Console.WriteLine(n1);\n",
    "// notación científica\n",
    "Console.WriteLine(4.2E2);"
   ]
  },
  {
   "cell_type": "markdown",
   "metadata": {},
   "source": [
    "Veamos las **constantes** disponibles para el tipo **double**"
   ]
  },
  {
   "cell_type": "code",
   "execution_count": 2,
   "metadata": {
    "dotnet_interactive": {
     "language": "csharp"
    }
   },
   "outputs": [
    {
     "name": "stdout",
     "output_type": "stream",
     "text": [
      "1,7976931348623157E+308\n",
      "-1,7976931348623157E+308\n"
     ]
    }
   ],
   "source": [
    "// descubrir las constantes del tipo\n",
    "Console.WriteLine(double.MaxValue);\n",
    "Console.WriteLine(double.MinValue);\n"
   ]
  },
  {
   "cell_type": "markdown",
   "metadata": {},
   "source": [
    "### Constantes\n",
    "Una **constante** es un tipo especial de variable que tiene la particularidad de que dentro del código del programa su valor sólo puede ser leído, pero nunca modificado.  \n",
    "Se suelen escribir con todas las letras en mayúsculas, si hay varias palabras se separan con un underscore _"
   ]
  },
  {
   "cell_type": "code",
   "execution_count": 3,
   "metadata": {
    "dotnet_interactive": {
     "language": "csharp"
    }
   },
   "outputs": [
    {
     "name": "stdout",
     "output_type": "stream",
     "text": [
      "3,141592\n",
      "-9,8\n"
     ]
    }
   ],
   "source": [
    "// PI = 3.141592, G=-9.8 m/s^2\n",
    "const double PI = 3.141592;\n",
    "Console.WriteLine(PI);\n",
    "const double G = -9.8;\n",
    "Console.WriteLine(G);\n",
    " "
   ]
  },
  {
   "attachments": {},
   "cell_type": "markdown",
   "metadata": {},
   "source": [
    "En el siguiente ejemplo el programa calcula la longitud de la circunferencia a partir del radio:"
   ]
  },
  {
   "cell_type": "code",
   "execution_count": 4,
   "metadata": {
    "dotnet_interactive": {
     "language": "csharp"
    }
   },
   "outputs": [
    {
     "name": "stdout",
     "output_type": "stream",
     "text": [
      "La circunferencia de radio 8 cm mide 50,265472 centímetros. \r\n"
     ]
    }
   ],
   "source": [
    "// Calculo de la circunferencia\n",
    "double rad = 8;\n",
    "double circunf = 2 * PI * rad;\n",
    "Console.WriteLine($\"La circunferencia de radio {rad} cm mide {circunf} centímetros. \")"
   ]
  },
  {
   "cell_type": "markdown",
   "metadata": {},
   "source": [
    "Unos estudiantes de la universidad de Stuttgart han conseguido batir el récord Mundial de aceleración de 0 a 100 km/h en tan sólo 1,779 segundos con un vehículo totalmente eléctrico diseñado para las competiciones de *Formula Student*.  \n",
    "Calcularemos la aceleración del vehículo, suponiendo que ésta es constante   \n",
    "v = v<sub>0</sub> + a·t"
   ]
  },
  {
   "cell_type": "code",
   "execution_count": 15,
   "metadata": {
    "dotnet_interactive": {
     "language": "csharp"
    }
   },
   "outputs": [
    {
     "name": "stdout",
     "output_type": "stream",
     "text": [
      "La aceleración es 21,6169476869866 m/s^2\r\n"
     ]
    }
   ],
   "source": [
    "// Cálculo de la aceleración\n",
    "double vi = 0.0;\n",
    "double v = 200 / 3.6 ;\n",
    "double tpo = 2.57;\n",
    "double a = (v-vi)/tpo;\n",
    "Console.WriteLine(\"La aceleración es \" + a + \" m/s^2\");"
   ]
  },
  {
   "cell_type": "markdown",
   "metadata": {},
   "source": [
    "**Ejercicio 1**\n",
    ">\n",
    "> Haz un programa que calcule el área de un círculo a partir del radio"
   ]
  },
  {
   "cell_type": "code",
   "execution_count": 9,
   "metadata": {
    "dotnet_interactive": {
     "language": "csharp"
    }
   },
   "outputs": [
    {
     "name": "stdout",
     "output_type": "stream",
     "text": [
      "El área de la círculo de radio 6 cm mide 113,09733552923255 centímetros.\n",
      "El área del círculo de radio 6cm es igual a 113,1 centímetros. \n"
     ]
    }
   ],
   "source": [
    "// Escribe aquí el código del programa\n",
    "double rad = 6;\n",
    "double A = rad * rad * Math.PI;\n",
    "Console.WriteLine($\"El área de la círculo de radio {rad} cm mide {A} centímetros.\");\n",
    " \n",
    "A = Math.Round(A,2);\n",
    "Console.WriteLine($\"El área del círculo de radio {rad}cm es igual a {A} centímetros. \") "
   ]
  },
  {
   "cell_type": "markdown",
   "metadata": {},
   "source": [
    "**Ejercicio 2**\n",
    ">\n",
    "> MRUA\n",
    "> Soltamos una pelota de tenis desde una terraza a una altura de 8 m. ¿Cuánto tiempo tardará en llegar al suelo? ¿Qué velocidad llevará al tocar el suelo? Si soltamos una bola de acero, ¿caerá antes o después? \n",
    ">\n",
    "> y = H - $\\frac{1}{2}$·g·t<sup>2</sup>   \n",
    "> \n",
    "> v = - g·t  \n",
    ">\n",
    "> Crea un programa que resuelva el problema"
   ]
  },
  {
   "cell_type": "code",
   "execution_count": 14,
   "metadata": {
    "dotnet_interactive": {
     "language": "csharp"
    }
   },
   "outputs": [
    {
     "name": "stdout",
     "output_type": "stream",
     "text": [
      "La pelota va a tardar 1,4285714285714286 segundos en caer\n",
      "Con una velocidad de -14,000000000000002 m/s\n"
     ]
    }
   ],
   "source": [
    "// Escribe aquí el código del programa\n",
    "double y = 0;\n",
    "double h = 10;\n",
    "double g = 9.8;\n",
    "double tpo = Math.Sqrt(-2*(y-h)/g);\n",
    "Console.WriteLine(\"La pelota va a tardar \" + tpo + \" segundos en caer\");\n",
    "Console.WriteLine(\"Con una velocidad de \" + (-g*tpo) + \" m/s\");\n",
    " \n",
    " "
   ]
  }
 ],
 "metadata": {
  "kernelspec": {
   "display_name": ".NET (C#)",
   "language": "C#",
   "name": ".net-csharp"
  },
  "language_info": {
   "name": "polyglot-notebook"
  },
  "polyglot_notebook": {
   "kernelInfo": {
    "defaultKernelName": "csharp",
    "items": [
     {
      "aliases": [],
      "name": ".NET"
     },
     {
      "aliases": [
       "C#",
       "c#"
      ],
      "languageName": "C#",
      "name": "csharp"
     },
     {
      "aliases": [
       "F#",
       "f#"
      ],
      "languageName": "F#",
      "name": "fsharp"
     },
     {
      "aliases": [],
      "languageName": "HTML",
      "name": "html"
     },
     {
      "aliases": [
       "js"
      ],
      "languageName": "JavaScript",
      "name": "javascript"
     },
     {
      "aliases": [],
      "languageName": "KQL",
      "name": "kql"
     },
     {
      "aliases": [],
      "languageName": "Mermaid",
      "name": "mermaid"
     },
     {
      "aliases": [
       "powershell"
      ],
      "languageName": "PowerShell",
      "name": "pwsh"
     },
     {
      "aliases": [],
      "languageName": "SQL",
      "name": "sql"
     },
     {
      "aliases": [],
      "name": "value"
     },
     {
      "aliases": [
       "frontend"
      ],
      "name": "vscode"
     },
     {
      "aliases": [],
      "name": "webview"
     }
    ]
   }
  }
 },
 "nbformat": 4,
 "nbformat_minor": 2
}
