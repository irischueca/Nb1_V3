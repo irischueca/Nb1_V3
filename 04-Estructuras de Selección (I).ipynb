{
 "cells": [
  {
   "cell_type": "markdown",
   "metadata": {},
   "source": [
    "# Estructuras de Selección (I)\n",
    "\n",
    "### If simple\n",
    "\n",
    "Las sentencias ***if*** realizan decisiones. Permiten ejecutar un bloque de código en el caso de que se cumpla una determinada condición.  \n",
    "\n",
    "> Prueba el siguiente código"
   ]
  },
  {
   "cell_type": "code",
   "execution_count": 2,
   "metadata": {
    "dotnet_interactive": {
     "language": "csharp"
    }
   },
   "outputs": [
    {
     "name": "stdout",
     "output_type": "stream",
     "text": [
      "Las suma es mayor que 5.\r\n"
     ]
    }
   ],
   "source": [
    "int i = 7;\n",
    "int j = 2;\n",
    "if(i+j>5)\n",
    "    Console.WriteLine($\"Las suma es mayor que 5.\");"
   ]
  },
  {
   "cell_type": "markdown",
   "metadata": {},
   "source": [
    "Expresado en lenguaje natural  \n",
    "*Si i más j es mayor que 5, escribe la suma es mayor que 5.* \n",
    "\n",
    "¿Qué pasaría si i más j no fuera mayor que 5?. Pruébalo.  \n",
    "\n",
    "Lo que pasa es que, al no cumplirse la condición, no se muestra nada.\n",
    "\n",
    "> *Observa que la línea de código asociada a la condición se escribe identada 4 espacios desplazados a la derecha*   \n",
    "> Identar el código de las sentecias condicionales mejora la legibilidad del código\n",
    " \n",
    "\n",
    "### Else\n",
    "\n",
    "Si queremos que el programa algo en ambos casos, una acción si se cumple la condición y otra si no se cumple. Para esta situción existe la sentencia ***else***; que define el bloque que se ejecutará cuando la condición del **if** no se cumple."
   ]
  },
  {
   "cell_type": "code",
   "execution_count": 5,
   "metadata": {
    "dotnet_interactive": {
     "language": "csharp"
    }
   },
   "outputs": [
    {
     "name": "stdout",
     "output_type": "stream",
     "text": [
      "Tu contraseña es suficientemente larga\r\n"
     ]
    }
   ],
   "source": [
    "// mostrar ejemplo if else\n",
    "string pswrd = \"1a2s3d4f5g6h7j\";\n",
    "if(pswrd.Length>8)\n",
    "{\n",
    "    Console.WriteLine(\"Tu contraseña es suficientemente larga\");\n",
    "}\n",
    "else\n",
    "{\n",
    "    Console.WriteLine(\"¡Demasiado corta!\");\n",
    "}\n"
   ]
  },
  {
   "cell_type": "markdown",
   "metadata": {},
   "source": [
    "Veamos otro ejemplo. Estamos desarrollando el programa de una tienda virtual y ser requiere aplicar un descuento del 10% al importe final a partir de 100 € de compra. Si hay descuento el programa informará del descuento aplicado y del precio final, en caso contrario el programa debe informar de la cantidad que le falta al cliente en la compra para obtener el descuento."
   ]
  },
  {
   "cell_type": "code",
   "execution_count": 6,
   "metadata": {
    "dotnet_interactive": {
     "language": "csharp"
    }
   },
   "outputs": [
    {
     "name": "stdout",
     "output_type": "stream",
     "text": [
      "Tienes un descuento de 20€. El precio final es de 180€.\r\n"
     ]
    }
   ],
   "source": [
    "// dar valor al precio final\n",
    "double price = 200.0;\n",
    "\n",
    "// constante para el descuento 10 %\n",
    "const double discount = .1;\n",
    "const double threshold = 100.0;\n",
    "\n",
    "// si el importe >= 100 aplicar descuento\n",
    "if (price>=threshold)\n",
    "{\n",
    "    double disc = price * discount;\n",
    "    Console.WriteLine($\"Tienes un descuento de {disc}€. El precio final es de {price-disc}€.\");\n",
    "}\n",
    "// si no informar del importe que falta para obtener el descuento\n",
    "else\n",
    "{\n",
    "    Console.WriteLine($\"Te faltan {threshold-price} € para conseguir el descuento\");\n",
    "}"
   ]
  },
  {
   "cell_type": "markdown",
   "metadata": {},
   "source": [
    "> Podemos incluir más de una línea asociada a la sentencia *if* o *else*, para ello escribiremos un bloque de código que quedará delimitado por llaves **{}**.  \n",
    "> Se recomienda siempre incluir el bloque con llaves incluso que sólo se vaya a escribir una línea de código asociada al *if* o el *else*"
   ]
  },
  {
   "cell_type": "markdown",
   "metadata": {},
   "source": [
    "### Sentencias *if* anidadas\n",
    "\n",
    "Siguiendo con el ejemplo anterior. En caso de un importe con descuento se require limitar el descuento máximo aplicado a 150.   \n",
    "Aplicar esta regla implicará incluir un nuevo bloque *if* dentro del *if* de la condición del precio.  \n",
    "No hay limitación ni restricciones que impidan incluir una condición *if* dentro de otra más allá de la complejidad que pueda suponer para nuestros programas "
   ]
  },
  {
   "cell_type": "code",
   "execution_count": 14,
   "metadata": {
    "dotnet_interactive": {
     "language": "csharp"
    }
   },
   "outputs": [
    {
     "name": "stdout",
     "output_type": "stream",
     "text": [
      "Tienes un descuento de 20€. El precio final es de 180€.\n",
      "En tu primera compra, tienes un descuento de 80€. El precio final es de 320€.\n",
      "Para tu segunda compra, te faltan 300€ para conseguir el descuento. El precio de tu segunda compra es de 350€.\n"
     ]
    }
   ],
   "source": [
    "// copiar el ejemplo anterior\n",
    "// dar valor al precio final\n",
    "double price = 200.0;\n",
    "\n",
    "// constante para el descuento 10 %\n",
    "const double discount = .1;\n",
    "const double threshold = 100.0;\n",
    "const double maxdiscount = 170.0;\n",
    "\n",
    "// si el importe >= 100 aplicar descuento\n",
    "if (price>=threshold)\n",
    "{\n",
    "    double disc = price * discount;\n",
    "    Console.WriteLine($\"Tienes un descuento de {disc}€. El precio final es de {price-disc}€.\");\n",
    "}\n",
    "// si no informar del importe que falta para obtener el descuento\n",
    "else\n",
    "{\n",
    "    Console.WriteLine($\"Te faltan {threshold-price} € para conseguir el descuento\");\n",
    "}\n",
    "// dentro del if incluir:\n",
    "    // si el descuento > 150 entonces el descuento será 150\n",
    "\n",
    "double price1 = 400.0;\n",
    "const double discount1 = .2;\n",
    "const double threshold1 = 200.0;\n",
    "const double maxidiscount1 = 350.0;\n",
    "if (price1>=threshold1)\n",
    "{\n",
    "    double disc1 = price1 * discount1;\n",
    "    Console.WriteLine($\"En tu primera compra, tienes un descuento de {disc1}€. El precio final es de {price1-disc1}€.\");\n",
    "    if()\n",
    "}\n",
    "\n",
    "else\n",
    "{\n",
    "   \n",
    "    Console.WriteLine($\"En tu primera compra te faltan {threshold1-price1}€ para conseguir el descuento. El precio de la compra es de {price1}€.\");\n",
    "}\n",
    "double price2 = 350.0;\n",
    "const double discount2 = .1;\n",
    "const double threshold2 = 50.0;\n",
    "const double maxidiscount2 = 150.0;\n",
    "if (price2>=threshold2)\n",
    "{\n",
    "    double disc2 = price2 * discount2;\n",
    "    Console.WriteLine($\"Para tu segunda compra, te faltan {price2-threshold2}€ para conseguir el descuento. El precio de tu segunda compra es de {price2}€.\");\n",
    "}\n",
    "else\n",
    "{\n",
    "    double disco2 = price2 * discount2;\n",
    "    Console.WriteLine($\"Para tu segunda compra, tienes un descuento de {disco2} €. El precio final es de {price2-disco2}€.\");\n",
    "}"
   ]
  },
  {
   "cell_type": "code",
   "execution_count": null,
   "metadata": {
    "dotnet_interactive": {
     "language": "csharp"
    },
    "polyglot_notebook": {
     "kernelName": "csharp"
    }
   },
   "outputs": [],
   "source": []
  },
  {
   "cell_type": "markdown",
   "metadata": {},
   "source": [
    "> El objeto **Random** permite obtener números aleatorios.  \n",
    "> El código de abajo muestra como obtener un aleatorio entre 0 y 99 [0,100)  "
   ]
  },
  {
   "cell_type": "code",
   "execution_count": 1,
   "metadata": {
    "dotnet_interactive": {
     "language": "csharp"
    }
   },
   "outputs": [
    {
     "name": "stdout",
     "output_type": "stream",
     "text": [
      "74\n",
      "17\n"
     ]
    }
   ],
   "source": [
    "// Obtener un número aleatorio\n",
    "Random rnd = new Random();\n",
    "Console.WriteLine(rnd.Next(100));\n",
    "\n",
    "Random rand = new Random();\n",
    "int num = rand.Next(1, 101);\n",
    "Console.WriteLine(num);"
   ]
  },
  {
   "cell_type": "markdown",
   "metadata": {},
   "source": [
    "**Ejercicio 1**\n",
    "> Crea un programa que obtenga dos números aleatorios y, a continuación:\n",
    "> - muestre el mayor\n",
    "> - muestre el menor\n",
    "> - muestre la división del mayor entre el menor  "
   ]
  },
  {
   "cell_type": "code",
   "execution_count": 21,
   "metadata": {
    "dotnet_interactive": {
     "language": "csharp"
    }
   },
   "outputs": [
    {
     "name": "stdout",
     "output_type": "stream",
     "text": [
      "El número mayor es 95.\n",
      "El número menor es 29.\n",
      "El resultado de la división es 3 con resto 8.\n"
     ]
    }
   ],
   "source": [
    "// Escribe aquí el código de tu programa\n",
    " Random rand = new Random ();\n",
    " int num1 = rand.Next(1, 100);\n",
    " int num2 = rand.Next(1, 100);\n",
    " if(num1>num2)\n",
    " {\n",
    "    Console.WriteLine($\"El número mayor es {num1}.\");\n",
    " }\n",
    " else\n",
    " {\n",
    "   Console.WriteLine($\"El número mayor es {num2}.\");\n",
    " }\n",
    " if(num1<num2)\n",
    " {\n",
    "   Console.WriteLine($\"El número menor es {num1}.\");\n",
    " }\n",
    " else\n",
    " {\n",
    "   Console.WriteLine($\"EL número menor es {num2}\");\n",
    " }\n",
    " if((num1>num2))\n",
    " {\n",
    "  Console.WriteLine($\"El resultado de la división es {num1/num2} con resto {num1%num2}.\");\n",
    " }\n",
    " else\n",
    " {\n",
    "  Console.WriteLine($\"El resultado de la división es {num2/num1} con resto {num2%num1}.\");\n",
    " }\n",
    " "
   ]
  }
 ],
 "metadata": {
  "kernelspec": {
   "display_name": ".NET (C#)",
   "language": "C#",
   "name": ".net-csharp"
  },
  "language_info": {
   "name": "polyglot-notebook"
  },
  "polyglot_notebook": {
   "kernelInfo": {
    "defaultKernelName": "csharp",
    "items": [
     {
      "aliases": [],
      "name": ".NET"
     },
     {
      "aliases": [
       "C#",
       "c#"
      ],
      "languageName": "C#",
      "name": "csharp"
     },
     {
      "aliases": [
       "F#",
       "f#"
      ],
      "languageName": "F#",
      "name": "fsharp"
     },
     {
      "aliases": [],
      "languageName": "HTML",
      "name": "html"
     },
     {
      "aliases": [
       "js"
      ],
      "languageName": "JavaScript",
      "name": "javascript"
     },
     {
      "aliases": [],
      "languageName": "KQL",
      "name": "kql"
     },
     {
      "aliases": [],
      "languageName": "Mermaid",
      "name": "mermaid"
     },
     {
      "aliases": [
       "powershell"
      ],
      "languageName": "PowerShell",
      "name": "pwsh"
     },
     {
      "aliases": [],
      "languageName": "SQL",
      "name": "sql"
     },
     {
      "aliases": [],
      "name": "value"
     },
     {
      "aliases": [
       "frontend"
      ],
      "name": "vscode"
     },
     {
      "aliases": [],
      "name": "webview"
     }
    ]
   }
  }
 },
 "nbformat": 4,
 "nbformat_minor": 2
}
